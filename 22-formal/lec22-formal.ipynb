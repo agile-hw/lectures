{
 "cells": [
  {
   "cell_type": "markdown",
   "id": "external-thermal",
   "metadata": {
    "slideshow": {
     "slide_type": "slide"
    }
   },
   "source": [
    "## Agile Hardware Design\n",
    "***\n",
    "# Formal Verification\n",
    "\n",
    "## Kevin Laeufer\n",
    "### laeufer@berkeley.edu\n",
    "\n",
    "- Berkeley PhD student\n",
    "- maintainer of the [chiseltest](https://github.com/ucb-bar/chiseltest) library\n",
    "\n",
    "**Note**: make sure you have the [z3 SMT solver](https://github.com/Z3Prover/z3) installed to be able to execute the examples on your machine. It should be available through your favorite package manager: _brew_, _dnf_, _apt_ etc.\n",
    "\n",
    "## [CSE 293](https://classes.soe.ucsc.edu/cse293/Winter22/)"
   ]
  },
  {
   "cell_type": "markdown",
   "id": "nominated-consistency",
   "metadata": {
    "slideshow": {
     "slide_type": "slide"
    }
   },
   "source": [
    "## Plan for Today\n",
    "\n",
    "* boolean satisfiability and SMT\n",
    "* verifying combinatorial circuits\n",
    "* verifying sequential circuits\n",
    "* applied examples"
   ]
  },
  {
   "cell_type": "markdown",
   "id": "regular-reducing",
   "metadata": {
    "slideshow": {
     "slide_type": "slide"
    }
   },
   "source": [
    "## Loading The Chisel Library Into a Notebook"
   ]
  },
  {
   "cell_type": "code",
   "execution_count": null,
   "id": "robust-immigration",
   "metadata": {},
   "outputs": [],
   "source": [
    "val path = System.getProperty(\"user.dir\") + \"/../resource/chisel_deps.sc\"\n",
    "interp.load.module(ammonite.ops.Path(java.nio.file.FileSystems.getDefault().getPath(path)))"
   ]
  },
  {
   "cell_type": "code",
   "execution_count": null,
   "id": "extended-burning",
   "metadata": {
    "slideshow": {
     "slide_type": "-"
    }
   },
   "outputs": [],
   "source": [
    "import chisel3._\n",
    "import chisel3.util._\n",
    "import chiseltest._\n",
    "import chiseltest.formal._\n",
    "import chiseltest.RawTester._"
   ]
  },
  {
   "cell_type": "markdown",
   "id": "d48ec38e",
   "metadata": {
    "slideshow": {
     "slide_type": "slide"
    }
   },
   "source": [
    "# SMT Solver Boilerplate\n",
    "\n",
    "A convenience function to make our SMT solving examples easier to read."
   ]
  },
  {
   "cell_type": "code",
   "execution_count": null,
   "id": "a4a92ab6",
   "metadata": {},
   "outputs": [],
   "source": [
    "import firrtl.backends.experimental.smt._\n",
    "import chiseltest.formal.backends.smt._\n",
    "/** helper function to easily check SMT formulas and return all assignments */\n",
    "object solve {\n",
    "  private val verbose: Boolean = true\n",
    "\n",
    "  def apply(expr: Seq[BVExpr]): Map[String, BigInt] = apply(expr, false)\n",
    "  def apply(expr: Seq[BVExpr], quiet: Boolean): Map[String, BigInt] =\n",
    "    apply(BVAnd(expr.toList), quiet)\n",
    "  def apply(expr: BVExpr): Map[String, BigInt] = apply(expr, false)\n",
    "  def apply(expr: BVExpr, quiet: Boolean): Map[String, BigInt] = {\n",
    "    require(expr.width == 1, s\"Expression needs to be boolean, not ${expr.width}-bits wide.\")\n",
    "    val symbols = findSymbols(expr).distinct\n",
    "    val solver = Z3SMTLib.createContext()\n",
    "    solver.setLogic(\"ALL\")\n",
    "    symbols.foreach(s => solver.runCommand(DeclareFunction(s, Seq())))\n",
    "    solver.assert(expr)\n",
    "    val r = solver.check()\n",
    "    r.toString match { // small hack because the result is package private\n",
    "      case \"IsSat\" =>\n",
    "        val values = symbols.map(s => s.name -> solver.getValue(s).get)\n",
    "        val vStr = values.map{ case (n,v) => s\"$n = $v\" }.mkString(\", \")\n",
    "        solver.close()\n",
    "        if(verbose && !quiet) println(s\"$expr is sat: $vStr\")\n",
    "        values.toMap\n",
    "      case \"IsUnSat\" =>\n",
    "        solver.close()\n",
    "        if(verbose && !quiet) println(s\"$expr is unsat\")\n",
    "        Map()\n",
    "    }\n",
    "  }\n",
    "\n",
    "  private def findSymbols(e: SMTExpr): Seq[BVSymbol] = e match {\n",
    "    case s: BVSymbol    => Seq(s)\n",
    "    case _: ArraySymbol => ???\n",
    "    case other => other.children.flatMap(findSymbols)\n",
    "  }\n",
    "}\n",
    "\n",
    "// define some symbols we can use later\n",
    "val b0 = BVSymbol(\"b0\", 1)\n",
    "val b1 = BVSymbol(\"b1\", 1)\n",
    "val a = BVSymbol(\"a\", 32)\n",
    "val b = BVSymbol(\"b\", 32)\n",
    "object and { def apply(a: BVExpr, b: BVExpr): BVExpr = BVAnd(a, b) }\n",
    "object or { def apply(a: BVExpr, b: BVExpr): BVExpr = BVOr(a, b) }\n",
    "object add { def apply(a: BVExpr, b: BVExpr): BVExpr = BVOp(Op.Add, a, b) }\n",
    "object sub { def apply(a: BVExpr, b: BVExpr): BVExpr = BVOp(Op.Sub, a, b) }\n",
    "object mul { def apply(a: BVExpr, b: BVExpr): BVExpr = BVOp(Op.Mul, a, b) }\n",
    "object leftShift { def apply(a: BVExpr, b: BVExpr): BVExpr = BVOp(Op.ShiftLeft, a, b) }\n",
    "object equal { def apply(a: BVExpr, b: BVExpr): BVExpr = BVEqual(a, b) }\n",
    "object gt { def apply(a: BVExpr, b: BVExpr): BVExpr = BVComparison(Compare.Greater, a, b, false) }\n",
    "object gte { def apply(a: BVExpr, b: BVExpr): BVExpr = BVComparison(Compare.GreaterEqual, a, b, false) }\n",
    "object ite { def apply(c: BVExpr, a: BVExpr, b: BVExpr): BVExpr = BVIte(c, a, b) }\n",
    "object not { def apply(a: BVExpr): BVExpr = BVNot(a) }\n",
    "object lit { def apply(value: BigInt, width: Int = 32): BVExpr = BVLiteral(value, width) }\n",
    "object failAfter {\n",
    "  def apply(n: Int): Unit = {\n",
    "    require(n > 0)\n",
    "    val failCount = RegInit(n.U)\n",
    "    failCount := failCount - 1.U\n",
    "    assert(failCount =/= 0.U, s\"failure triggered after $n cycles\")\n",
    "  }\n",
    "}"
   ]
  },
  {
   "cell_type": "markdown",
   "id": "cceefe9b",
   "metadata": {
    "slideshow": {
     "slide_type": "slide"
    }
   },
   "source": [
    "# Boolean Satisfiability\n",
    "\n",
    "- given a boolean formula: $ F(x_1, x_2, ..., x_n) $\n",
    "- can $F$ evaluate to true?\n",
    "- _or_ does the exist an assignment to the variables $x_1 ... x_n$ such that $F$ evaluates to true? `(sat)`\n",
    "- _or_ does $F$ for all possible assignments to $x_1 .... x_n$ evaluate to false? `(unsat)`\n",
    "- our `solve` determines satisfiability for us\n",
    "\n",
    "\n",
    "[more information](https://ptolemy.berkeley.edu/projects/embedded/eecsx44/fall2011/lectures/SATSolving.pdf)"
   ]
  },
  {
   "cell_type": "code",
   "execution_count": null,
   "id": "cc3bb31c",
   "metadata": {},
   "outputs": [],
   "source": [
    "solve(and(b0, not(b0)))\n",
    "// solve(and(b0, b1))\n",
    "// solve(or(b0, b1))"
   ]
  },
  {
   "cell_type": "markdown",
   "id": "5b0fd416",
   "metadata": {
    "slideshow": {
     "slide_type": "slide"
    }
   },
   "source": [
    "# Boolean Satisfiability\n",
    "- can be solved with a truth table\n",
    "- $F_0(b_0, b_1) = b_0 \\land \\neg b_0$\n",
    "- $F_1(b_0, b_1) = b_0 \\land b_1$\n"
   ]
  },
  {
   "cell_type": "markdown",
   "id": "553e52aa",
   "metadata": {
    "slideshow": {
     "slide_type": "-"
    }
   },
   "source": [
    "| $b_0$  | $F_0$ |\n",
    "|--------|-------|\n",
    "|  $0$   |  $0$  |\n",
    "|  $1$   |  $0$  |\n",
    "\n"
   ]
  },
  {
   "cell_type": "markdown",
   "id": "0a7107f1",
   "metadata": {
    "slideshow": {
     "slide_type": "-"
    }
   },
   "source": [
    "| $b_0$  | $b_1$ | $F_1$ |\n",
    "|--------|-------|-------|\n",
    "|  $0$   |  $0$  |  $0$  |\n",
    "|  $0$   |  $1$  |  $0$  |\n",
    "|  $1$   |  $0$  |  $0$  |\n",
    "|  $1$   |  $1$  |  $1$  |"
   ]
  },
  {
   "cell_type": "markdown",
   "id": "12456d1a",
   "metadata": {
    "slideshow": {
     "slide_type": "slide"
    }
   },
   "source": [
    "# Boolean Satisfiability\n",
    "- can be solved with a truth table\n",
    "- truth table size grows exponentially with number of variables: $\\mathcal{O}(2^n)$\n",
    "- first NP-complete problem (Cook, 1971)\n",
    "- but a lot of general cases can be solved quickly!\n",
    "\n"
   ]
  },
  {
   "cell_type": "markdown",
   "id": "79623a67",
   "metadata": {
    "slideshow": {
     "slide_type": "slide"
    }
   },
   "source": [
    "# SMT\n",
    "- extends SAT solving with _theories_ beyond boolean formulas\n",
    "- **Bit Vectors** model fixed bit width integers\n",
    "- **Arrays** model storing and loading from a memory\n",
    "- both are important when trying to reason about C programs or digital circuits"
   ]
  },
  {
   "cell_type": "code",
   "execution_count": null,
   "id": "a156ef43",
   "metadata": {
    "scrolled": true
   },
   "outputs": [],
   "source": [
    "// a + a == 8\n",
    "solve(equal(add(a, a), lit(8)))\n",
    "// a + a == 9\n",
    "// solve(equal(add(a, a), lit(9)))\n",
    "// c * 4 == c << a\n",
    "val c = 145\n",
    "// solve(equal(mul(lit(c), lit(4)), leftShift(lit(c), a)))\n",
    "// c * 5 == c << a\n",
    "// solve(equal(mul(lit(c), lit(5)), leftShift(lit(c), a)))"
   ]
  },
  {
   "cell_type": "markdown",
   "id": "864f25a0",
   "metadata": {
    "slideshow": {
     "slide_type": "slide"
    }
   },
   "source": [
    "# Verifying Combinatorial Circuits\n",
    "- we call circuits without state elements (registers or memories) _combinatorial_\n",
    "- assertions on these modules can be directly mapped to a SMT formula\n",
    "\n",
    "```.scala\n",
    "val a = IO(Input(UInt(32.W)))\n",
    "val b = a + 1.U\n",
    "assert(b > a)\n",
    "```"
   ]
  },
  {
   "cell_type": "code",
   "execution_count": null,
   "id": "eb69d4bb",
   "metadata": {},
   "outputs": [],
   "source": [
    "// does there exist an assignment to a such that the assertion _fails_\n",
    "solve(and(\n",
    "    equal(b, add(a, lit(1))), // define b\n",
    "    not(gt(b, a))             // can the assertion be violated?\n",
    "))\n",
    "// what is going on?\n",
    "// println(\"0\" + (4294967295L).toBinaryString)\n",
    "// println((4294967295L + 1).toBinaryString)"
   ]
  },
  {
   "cell_type": "markdown",
   "id": "ec40a681",
   "metadata": {
    "slideshow": {
     "slide_type": "slide"
    }
   },
   "source": [
    "# Verifying Combinatorial Circuits\n",
    "- now with chisel!"
   ]
  },
  {
   "cell_type": "code",
   "execution_count": null,
   "id": "754498d4",
   "metadata": {
    "scrolled": true
   },
   "outputs": [],
   "source": [
    "class AddOne extends Module {\n",
    "  val a = IO(Input(UInt(32.W)))\n",
    "  val b = a + 1.U\n",
    "  assert(b > a, \"%b > %b\", a, b)\n",
    "}\n",
    "\n",
    "verify(new AddOne, Seq(BoundedCheck(1)))"
   ]
  },
  {
   "cell_type": "markdown",
   "id": "40579826",
   "metadata": {
    "slideshow": {
     "slide_type": "slide"
    }
   },
   "source": [
    "# Application of Combinatorial Circuit Verification\n",
    "- gray code is used for counters that need to cross clock domains\n",
    "- important properties:\n",
    " - can convert from/to binary without loss of information"
   ]
  },
  {
   "cell_type": "code",
   "execution_count": null,
   "id": "0ba88855",
   "metadata": {},
   "outputs": [],
   "source": [
    "/** Checks that when we go from binary -> gray -> binary the result is always the same as the input. */\n",
    "class GrayCodeIdentityCheck(width: Int) extends Module {\n",
    "  val in = IO(Input(UInt(width.W)))\n",
    "  val gray = BinaryToGray(in)\n",
    "  val out = GrayToBinary(gray)\n",
    "  assert(in === out, \"%b -> %b -> %b\", in, gray, out)\n",
    "}\n",
    "verify(new GrayCodeIdentityCheck(64), Seq(BoundedCheck(1)))"
   ]
  },
  {
   "cell_type": "markdown",
   "id": "d81aa68b",
   "metadata": {
    "slideshow": {
     "slide_type": "slide"
    }
   },
   "source": [
    "# Application of Combinatorial Circuit Verification\n",
    "- gray code is used for counters that need to cross clock domains\n",
    "- important properties:\n",
    " - can convert from/to binary without loss of information\n",
    " - when input is incremented, only one bit will flip"
   ]
  },
  {
   "cell_type": "code",
   "execution_count": null,
   "id": "4a9b9242",
   "metadata": {},
   "outputs": [],
   "source": [
    "/** Checks that if we increment the binary number, the gray code equivalent only changes by one bit. */\n",
    "class GrayCodeHammingCheck(width: Int) extends Module {\n",
    "  val a = IO(Input(UInt(width.W)))\n",
    "  val b = a + 1.U\n",
    "  val aGray = BinaryToGray(a)\n",
    "  val bGray = BinaryToGray(b)\n",
    "  val hamming = PopCount(aGray ^ bGray)\n",
    "  assert(hamming === 1.U, \"%b ^ %b = %b\", aGray, bGray, hamming)\n",
    "}\n",
    "verify(new GrayCodeHammingCheck(64), Seq(BoundedCheck(1)))"
   ]
  },
  {
   "cell_type": "markdown",
   "id": "0d46012a",
   "metadata": {
    "slideshow": {
     "slide_type": "slide"
    }
   },
   "source": [
    "# Combinatorial Circuit Verification\n",
    "- need to write an assertion to define property that we want to check\n",
    "- SMT solver can help us prove that for all possible inputs, the assertion cannot be violated\n",
    "- with the Chisel interface, we choose `BoundedCheck(1)` for a full proof"
   ]
  },
  {
   "cell_type": "markdown",
   "id": "79aba5fc",
   "metadata": {
    "slideshow": {
     "slide_type": "slide"
    }
   },
   "source": [
    "# Verifying Sequential Circuits\n",
    "- most circuits have state (registers or memories) which evolves over time"
   ]
  },
  {
   "cell_type": "code",
   "execution_count": null,
   "id": "70311336",
   "metadata": {},
   "outputs": [],
   "source": [
    "class MyCounter extends Module {\n",
    "    val en = IO(Input(Bool()))\n",
    "    val count = RegInit(0.U(32.W))\n",
    "    when(en && count === 22.U) { count := 0.U }\n",
    "    when(en && count =/= 22.U) { count := count + 1.U }\n",
    "    assert(count =/= 10.U)\n",
    "\n",
    "    printf(p\"count = ${count}, en = ${en}\\n\")\n",
    "}\n",
    "\n",
    "verify(new MyCounter, Seq(BoundedCheck(24)))"
   ]
  },
  {
   "cell_type": "markdown",
   "id": "9112a6a0",
   "metadata": {
    "slideshow": {
     "slide_type": "slide"
    }
   },
   "source": [
    "# Verifying Sequential Circuits\n",
    "- transition system abstraction\n",
    "<img src=\"transition-system.png\" alt=\"transition system\" style=\"width:55%;\" align=\"center\"/>\n",
    "\n",
    "- $s_0$: `count = 0, en = 0`\n",
    "- $s_1$: `count = 0, en = 1`\n",
    "- $s_2$: `count = 1, en = 0`\n",
    "- $s_e$: `count = 10, en = ?` (10 instead of 500 for now)\n",
    "- can we reach $s_e$?"
   ]
  },
  {
   "cell_type": "code",
   "execution_count": null,
   "id": "7c393e24",
   "metadata": {},
   "outputs": [],
   "source": [
    "case class State(counter: BVSymbol, en: BVSymbol)\n",
    "def makeState(num: Int) = State(BVSymbol(s\"counter_$num\", 32), BVSymbol(s\"en_$num\", 1))\n",
    "def I(s: State) = equal(s.counter, lit(0))\n",
    "def T(s0: State, s1: State): BVExpr = {\n",
    "  val nextCounter = ite(s0.en, ite(equal(s0.counter, lit(22)), lit(0), add(s0.counter, lit(1))), s0.counter)\n",
    "  // enable is an input and thus left unconstrained\n",
    "  equal(s1.counter, nextCounter)\n",
    "}\n",
    "def P(s: State) = not(equal(s.counter, lit(10))) // 10 instead of 500 for now\n",
    "val (s0, s1) = (makeState(0), makeState(1))\n"
   ]
  },
  {
   "cell_type": "markdown",
   "id": "2fa266d5",
   "metadata": {
    "slideshow": {
     "slide_type": "slide"
    }
   },
   "source": [
    "# Transition System Questions\n",
    "- what happened to our clock?\n",
    "- what happened to our reset?"
   ]
  },
  {
   "cell_type": "markdown",
   "id": "e0867e74",
   "metadata": {
    "slideshow": {
     "slide_type": "slide"
    }
   },
   "source": [
    "# Verifying Sequential Circuits\n",
    "\n",
    "## Bounded model checking\n",
    "\n",
    "- symbolic states: $s_i$, initial state: $I$, next state: $T$, assertion: $P$\n",
    "- $I(s_0) \\land T(s_0, s_1) \\land ... \\land T(s_{k-1}, s_k) \\land ( \\lor_{i=0}^{k} \\neg P(s_i) )$"
   ]
  },
  {
   "cell_type": "code",
   "execution_count": null,
   "id": "d0d328be",
   "metadata": {},
   "outputs": [],
   "source": [
    "// manual example\n",
    "// check if the initial state violates the assertion\n",
    "solve(Seq(I(s0), not(P(s0))))\n",
    "// check if state 1 can violate the assertion\n",
    "solve(Seq(I(s0), T(s0, s1), not(P(s1))))\n",
    "\n",
    "// val s2 = makeState(2)\n",
    "// solve(Seq(I(s0), T(s0, s1), T(s1, s2), not(P(s2))))"
   ]
  },
  {
   "cell_type": "markdown",
   "id": "f110613f",
   "metadata": {
    "slideshow": {
     "slide_type": "slide"
    }
   },
   "source": [
    "# Bounded Model Checking"
   ]
  },
  {
   "cell_type": "code",
   "execution_count": null,
   "id": "68dd5105",
   "metadata": {},
   "outputs": [],
   "source": [
    "// implement a bmc routine\n",
    "def bmc(k: Int): Unit = {\n",
    "  var prev = makeState(0)\n",
    "  var cond = List(I(prev))\n",
    "  (0 to k).foreach { j =>\n",
    "    val r = solve(cond :+ not(P(prev)), quiet=true)\n",
    "    if(r.nonEmpty) {\n",
    "      println(s\"found bug after $j steps\")\n",
    "      println(r.toSeq.sorted.mkString(\"\\n\"))\n",
    "      return\n",
    "    }\n",
    "    // add another state\n",
    "    val state = makeState(j + 1)\n",
    "    cond = cond :+ T(prev, state)\n",
    "    prev = state\n",
    "  }\n",
    "}\n",
    "bmc(5)"
   ]
  },
  {
   "cell_type": "markdown",
   "id": "9c9523a5",
   "metadata": {
    "slideshow": {
     "slide_type": "slide"
    }
   },
   "source": [
    "# Bounded Model Checking\n",
    "step 0: $counter \\in \\{0\\}$\n",
    "<img src=\"ind0.png\" alt=\"define induction state space\" style=\"width:55%;\" align=\"center\"/>\n"
   ]
  },
  {
   "cell_type": "markdown",
   "id": "79ba5bff",
   "metadata": {
    "slideshow": {
     "slide_type": "slide"
    }
   },
   "source": [
    "# Bounded Model Checking\n",
    "step 1: $counter \\in \\{0, 1\\}$\n",
    "<img src=\"bmc0.png\" alt=\"define induction state space\" style=\"width:55%;\" align=\"center\"/>\n"
   ]
  },
  {
   "cell_type": "markdown",
   "id": "9bfd21c3",
   "metadata": {
    "slideshow": {
     "slide_type": "slide"
    }
   },
   "source": [
    "# Bounded Model Checking\n",
    "step 2: $counter \\in \\{0, 1, 2\\}$\n",
    "<img src=\"bmc1.png\" alt=\"define induction state space\" style=\"width:55%;\" align=\"center\"/>\n"
   ]
  },
  {
   "cell_type": "markdown",
   "id": "c7f82ad4",
   "metadata": {
    "slideshow": {
     "slide_type": "slide"
    }
   },
   "source": [
    "# Applications: Queues"
   ]
  },
  {
   "cell_type": "code",
   "execution_count": null,
   "id": "8e6d191e",
   "metadata": {},
   "outputs": [],
   "source": [
    "class QueueIO(bitWidth: Int) extends Bundle {\n",
    "  val enq = Flipped(Decoupled(UInt(bitWidth.W)))\n",
    "  val deq = Decoupled(UInt(bitWidth.W))\n",
    "}\n",
    "// from our queue lecture\n",
    "class MyQueueV6(val numEntries: Int, bitWidth: Int, pipe: Boolean=true) extends Module {\n",
    "  val io = IO(new QueueIO(bitWidth))\n",
    "  require(numEntries > 1)\n",
    "  //     require(isPow2(numEntries))    // no longer needed\n",
    "  val entries = Mem(numEntries, UInt(bitWidth.W))\n",
    "  val enqIndex = Counter(numEntries)\n",
    "  val deqIndex = Counter(numEntries)\n",
    "  val maybeFull = RegInit(false.B)\n",
    "  val indicesEqual = enqIndex.value === deqIndex.value\n",
    "  val empty = indicesEqual && !maybeFull\n",
    "  val full = indicesEqual && maybeFull\n",
    "  if (pipe)\n",
    "    io.enq.ready := !full || io.deq.ready\n",
    "  else\n",
    "    io.enq.ready := !full\n",
    "  io.deq.valid := !empty\n",
    "  io.deq.bits := entries(deqIndex.value)\n",
    "  val fixed = false\n",
    "  if(fixed) {\n",
    "    when (io.deq.fire =/= io.enq.fire) {\n",
    "      maybeFull := io.enq.fire\n",
    "    }\n",
    "  } else {\n",
    "    when (indicesEqual && io.deq.fire =/= io.enq.fire) {\n",
    "      maybeFull := !maybeFull\n",
    "     }\n",
    "  }\n",
    "  when (io.deq.fire) {\n",
    "    deqIndex.inc()\n",
    "  }\n",
    "  when (io.enq.fire) {\n",
    "    entries(enqIndex.value) := io.enq.bits\n",
    "    enqIndex.inc()\n",
    "  }\n",
    "  // printf(p\"deq.valid=${io.deq.valid}, enq.ready=${io.enq.ready}, maybeFull=${maybeFull}, enqIndex=${enqIndex.value}, deqIndex=${deqIndex.value}, enq.fire=${io.enq.fire}, deq.fire=${io.deq.fire}\\n\")\n",
    "}\n"
   ]
  },
  {
   "cell_type": "markdown",
   "id": "e36ce549",
   "metadata": {
    "slideshow": {
     "slide_type": "slide"
    }
   },
   "source": [
    "# Applications: Queues\n",
    "- data integrity property:\n",
    "  - when data enters the Queue it should exit again in the right order"
   ]
  },
  {
   "cell_type": "markdown",
   "id": "ca30a759",
   "metadata": {
    "slideshow": {
     "slide_type": "slide"
    }
   },
   "source": [
    "# Queue Trace"
   ]
  },
  {
   "cell_type": "code",
   "execution_count": null,
   "id": "90fa6e79",
   "metadata": {},
   "outputs": [],
   "source": [
    "class QueueTrace extends Module {\n",
    "    val dut = Module(new MyQueueV6(numEntries = 3, bitWidth = 8, pipe=false))\n",
    "    val io = IO(new QueueIO(8)) ; io <> dut.io\n",
    "    \n",
    "    // count elements\n",
    "    val elementCount = RegInit(0.U(log2Ceil(dut.numEntries + 1).W))\n",
    "    val nextElementCount = elementCount + io.enq.fire - io.deq.fire \n",
    "    elementCount := nextElementCount\n",
    "    \n",
    "    \n",
    "    // trace internal state\n",
    "    val cycle = RegInit(0.U(8.W)) ; cycle := cycle + 1.U\n",
    "    printf(p\"${cycle} ----------------------------------\\n\")\n",
    "    printf(p\"count: ${elementCount} -> ${nextElementCount}\\n\")\n",
    "    when(io.enq.fire) { printf(p\"[${io.enq.bits}]\") }\n",
    "    when(io.enq.fire || io.deq.fire) { printf(\" --> \") }\n",
    "    when(io.deq.fire) { printf(p\"[${io.deq.bits}]\") }\n",
    "    when(io.enq.fire || io.deq.fire) { printf(\"\\n\") }\n",
    "    \n",
    "    // failAfter(3)\n",
    "}\n",
    "verify(new QueueTrace, Seq(BoundedCheck(6)))"
   ]
  },
  {
   "cell_type": "markdown",
   "id": "7981736d",
   "metadata": {
    "slideshow": {
     "slide_type": "slide"
    }
   },
   "source": [
    "# Queue Check 1\n",
    "- pick first element that enters the queue and check that it is correctly dequeued"
   ]
  },
  {
   "cell_type": "code",
   "execution_count": null,
   "id": "d7d7bd65",
   "metadata": {},
   "outputs": [],
   "source": [
    "class QueueCheck01 extends QueueTrace {\n",
    "    val isActive = RegInit(false.B) // are we tracking a packet?\n",
    "    val packetValue = Reg(UInt(8.W))\n",
    "    // start tracking when first packet enters\n",
    "    when(!isActive && io.enq.fire) {\n",
    "        isActive := true.B\n",
    "        packetValue := io.enq.bits\n",
    "        printf(p\"tracking: ${io.enq.bits} @ ${elementCount}\\n\")\n",
    "    } \n",
    "    when(isActive && io.deq.fire) {\n",
    "        isActive := false.B\n",
    "        assert(io.deq.bits === packetValue, \"%d =/= %d\", io.deq.bits, packetValue)\n",
    "        when(io.deq.bits === packetValue) { printf(p\"OK (${packetValue})\\n\") }\n",
    "    }    \n",
    "}\n",
    "verify(new QueueCheck01, Seq(BoundedCheck(3)))"
   ]
  },
  {
   "cell_type": "markdown",
   "id": "eaac9a5a",
   "metadata": {
    "slideshow": {
     "slide_type": "slide"
    }
   },
   "source": [
    "# Queue Check 2\n",
    "- make sure we can track a second element"
   ]
  },
  {
   "cell_type": "code",
   "execution_count": null,
   "id": "9de4d9c4",
   "metadata": {
    "scrolled": true
   },
   "outputs": [],
   "source": [
    "class QueueCheck02 extends QueueTrace {\n",
    "    val isActive = RegInit(false.B) // are we tracking a packet?\n",
    "    val packetValue = Reg(UInt(8.W))\n",
    "    val packetCount = Reg(chiselTypeOf(elementCount))\n",
    "    // start tracking when first packet enters\n",
    "    when(!isActive && io.enq.fire) {\n",
    "        isActive := true.B; packetValue := io.enq.bits\n",
    "        packetCount := nextElementCount\n",
    "        printf(p\"tracking: ${io.enq.bits} @ ${elementCount}\\n\")\n",
    "    } \n",
    "    when(isActive && io.deq.fire) {\n",
    "        packetCount := packetCount - 1.U\n",
    "        when(packetCount === 1.U) {\n",
    "            isActive := false.B\n",
    "            assert(io.deq.bits === packetValue, \"%d =/= %d\", io.deq.bits, packetValue)\n",
    "            when(io.deq.bits === packetValue) { printf(p\"OK (${packetValue})\\n\") }\n",
    "        }\n",
    "    }    \n",
    "}\n",
    "verify(new QueueCheck02, Seq(BoundedCheck(10)))"
   ]
  },
  {
   "cell_type": "markdown",
   "id": "28d4407b",
   "metadata": {
    "slideshow": {
     "slide_type": "slide"
    }
   },
   "source": [
    "# Queue Check 3\n",
    "- pick **any** element that enters the queue and check that it is correctly dequeued"
   ]
  },
  {
   "cell_type": "code",
   "execution_count": null,
   "id": "dd7ab31f",
   "metadata": {},
   "outputs": [],
   "source": [
    "class QueueCheck03 extends QueueTrace {\n",
    "    val en = IO(Input(Bool())) // <-- add enable!\n",
    "    val isActive = RegInit(false.B) // are we tracking a packet?\n",
    "    val packetValue = Reg(UInt(8.W))\n",
    "    val packetCount = Reg(chiselTypeOf(elementCount))\n",
    "    // start tracking when first packet enters\n",
    "    when(!isActive && en && io.enq.fire) {\n",
    "        isActive := true.B; packetValue := io.enq.bits ; packetCount := nextElementCount\n",
    "        printf(p\"tracking: ${io.enq.bits} @ ${elementCount}\\n\")\n",
    "    } \n",
    "    when(isActive && io.deq.fire) {\n",
    "        packetCount := packetCount - 1.U\n",
    "        when(packetCount === 1.U) {\n",
    "            isActive := false.B\n",
    "            assert(io.deq.bits === packetValue, \"%d =/= %d\", io.deq.bits, packetValue)\n",
    "            when(io.deq.bits === packetValue) { printf(p\"OK (${packetValue})\\n\") }\n",
    "        }\n",
    "    }    \n",
    "}\n",
    "verify(new QueueCheck03, Seq(BoundedCheck(10)))"
   ]
  },
  {
   "cell_type": "markdown",
   "id": "3aea7192",
   "metadata": {
    "slideshow": {
     "slide_type": "slide"
    }
   },
   "source": [
    "# Formal Verification with Chisel\n",
    "- formal verification can exhaustively verify a circuit\n",
    "- checker needs to be written in Chisel (not software!)\n",
    "- checker can be smaller if we find a good property to check (but can be hard to find the right one!)\n",
    "- can find interesting corner case bugs\n",
    "- [more examples](https://github.com/ekiwi/chisel-verification-examples) [to try out](https://github.com/ucb-bar/chiseltest/tree/master/src/test/scala/chiseltest/formal/examples)\n",
    "- feel free to [get in touch](mailto:laeufer@eecs.berkeley.edu) if you have any questions\n",
    "- [chiseltest library](https://github.com/ucb-bar/chiseltest)\n",
    "- [chisel community chat](https://gitter.im/freechipsproject/chisel3)"
   ]
  },
  {
   "cell_type": "markdown",
   "id": "efb9d7c8",
   "metadata": {
    "slideshow": {
     "slide_type": "slide"
    }
   },
   "source": [
    "# Bonus: temporal assertions\n",
    "- allows us to specify properties involving multiple cycles\n",
    "- an example form the [AXI4 specification](http://www.gstitt.ece.ufl.edu/courses/fall15/eel4720_5721/labs/refs/AXI4_specification.pdf):\n",
    "<img src=\"axi.png\" alt=\"axi4 property\" style=\"width:55%;\" align=\"center\"/>\n"
   ]
  },
  {
   "cell_type": "code",
   "execution_count": null,
   "id": "3881da26",
   "metadata": {},
   "outputs": [],
   "source": [
    "class AxiCheck extends Module {\n",
    "    val io = IO(Flipped(Irrevocable(UInt(8.W))))\n",
    "    val ready = IO(Input(Bool())) ; io.ready := ready\n",
    "    when(past(io.valid && !io.ready)) {\n",
    "        assert(io.valid, \"valid may not be deasserted without a ready\")\n",
    "        assert(stable(io.bits), \"bits may not change until a transaction occurs (%d -> %d)\", past(io.bits), io.bits)\n",
    "    }\n",
    "}"
   ]
  },
  {
   "cell_type": "markdown",
   "id": "133b6dcf",
   "metadata": {
    "slideshow": {
     "slide_type": "slide"
    }
   },
   "source": [
    "# Bonus: temporal assertions"
   ]
  },
  {
   "cell_type": "code",
   "execution_count": null,
   "id": "8a81f3aa",
   "metadata": {},
   "outputs": [],
   "source": [
    "test(new AxiCheck) { dut =>\n",
    "    dut.clock.step()\n",
    "    \n",
    "    dut.io.valid.poke(true.B)\n",
    "    dut.io.bits.poke(123.U)\n",
    "    dut.io.ready.expect(false.B)\n",
    "    dut.clock.step()\n",
    "    \n",
    "    // transaction happens\n",
    "    dut.ready.poke(true.B)\n",
    "    dut.clock.step()\n",
    "    \n",
    "    // now we are allowed to change the bits\n",
    "    dut.io.bits.poke(234.U)\n",
    "    dut.clock.step()\n",
    "    \n",
    "    // no more transaction\n",
    "    dut.ready.poke(false.B)\n",
    "    dut.clock.step()\n",
    "    \n",
    "    // we are not allowed to change the data here\n",
    "    // dut.io.bits.poke(123.U)\n",
    "    dut.clock.step()\n",
    "    \n",
    "    // we are not allowed to revoke the valid\n",
    "    dut.io.valid.poke(false.B)\n",
    "    dut.clock.step()\n",
    "}"
   ]
  },
  {
   "cell_type": "markdown",
   "id": "c8ba9bbc",
   "metadata": {
    "slideshow": {
     "slide_type": "slide"
    }
   },
   "source": [
    "# Bonus: temporal assertions\n",
    "- SystemVerilog (SVA) and VHDL (PSL) support even more complicated temporal assertions\n",
    "- [PSL assertion examples](https://github.com/tmeissner/psl_with_ghdl)\n",
    "- [SystemVerilog Assertion examples](https://github.com/SymbioticEDA/sva-demos)"
   ]
  },
  {
   "cell_type": "markdown",
   "id": "73cfb144",
   "metadata": {
    "slideshow": {
     "slide_type": "slide"
    }
   },
   "source": [
    "# Bonus: k-induction\n",
    "- we can prove the example `Counter` correct by induction\n",
    "- [original example on slide 99](https://zipcpu.com/tutorial/class-verilog.pdf )"
   ]
  },
  {
   "cell_type": "code",
   "execution_count": null,
   "id": "b20e2b86",
   "metadata": {},
   "outputs": [],
   "source": [
    "def P(s: State) = not(equal(s.counter, lit(500))) // now 500"
   ]
  },
  {
   "cell_type": "markdown",
   "id": "0d7440b8",
   "metadata": {
    "slideshow": {
     "slide_type": "slide"
    }
   },
   "source": [
    "# Review: Bounded Model Checking\n",
    "step 0: $counter \\in \\{0\\}$\n",
    "<img src=\"ind0.png\" alt=\"define induction state space\" style=\"width:55%;\" align=\"center\"/>\n"
   ]
  },
  {
   "cell_type": "markdown",
   "id": "20a881b5",
   "metadata": {
    "slideshow": {
     "slide_type": "slide"
    }
   },
   "source": [
    "# Review: Bounded Model Checking\n",
    "step 1: $counter \\in \\{0, 1\\}$\n",
    "<img src=\"bmc0.png\" alt=\"define induction state space\" style=\"width:55%;\" align=\"center\"/>\n"
   ]
  },
  {
   "cell_type": "markdown",
   "id": "f87a8233",
   "metadata": {
    "slideshow": {
     "slide_type": "slide"
    }
   },
   "source": [
    "# Review:  Bounded Model Checking\n",
    "step 2: $counter \\in \\{0, 1, 2\\}$\n",
    "<img src=\"bmc1.png\" alt=\"define induction state space\" style=\"width:55%;\" align=\"center\"/>\n"
   ]
  },
  {
   "cell_type": "markdown",
   "id": "ae4a58f5",
   "metadata": {
    "slideshow": {
     "slide_type": "slide"
    }
   },
   "source": [
    "# Bonus: k-induction\n",
    "- we can prove the example `Counter` correct by induction\n",
    "- [original example on slide 99](https://zipcpu.com/tutorial/class-verilog.pdf )\n",
    "- base case: $I(s_0) \\land \\neg P(s_0)$: `counter === 0 && !(counter =/= 500)`\n",
    "- induction: $P(s_0) \\land T(s_0, s_1) \\land \\neg P(s_1)$\n",
    "\n",
    "<img src=\"ind0.png\" alt=\"define induction state space\" style=\"width:55%;\" align=\"center\"/>\n"
   ]
  },
  {
   "cell_type": "markdown",
   "id": "646907b9",
   "metadata": {
    "slideshow": {
     "slide_type": "slide"
    }
   },
   "source": [
    "# Bonus: k-induction\n",
    "- we can prove the example `Counter` correct by induction\n",
    "- [original example on slide 99](https://zipcpu.com/tutorial/class-verilog.pdf )\n",
    "- base case: $I(s_0) \\land \\neg P(s_0)$: `counter === 0 && !(counter =/= 500)`\n",
    "- induction: $P(s_0) \\land T(s_0, s_1) \\land \\neg P(s_1)$\n",
    "\n",
    "<img src=\"ind3.png\" alt=\"define induction state space\" style=\"width:55%;\" align=\"center\"/>\n"
   ]
  },
  {
   "cell_type": "markdown",
   "id": "ec94a444",
   "metadata": {
    "slideshow": {
     "slide_type": "slide"
    }
   },
   "source": [
    "# Bonus: k-induction\n",
    "- we can prove the example `Counter` correct by induction\n",
    "- [original example on slide 99](https://zipcpu.com/tutorial/class-verilog.pdf )\n",
    "- base case: $I(s_0) \\land P(s_0)$: `counter === 0 && !(counter =/= 500)`\n",
    "- induction: $P(s_0) \\land T(s_0, s_1) \\land \\neg P(s_1)$\n",
    "\n",
    "<img src=\"ind1.png\" alt=\"inductive invariant\" style=\"width:55%;\" align=\"center\"/>\n"
   ]
  },
  {
   "cell_type": "markdown",
   "id": "96062ca4",
   "metadata": {
    "slideshow": {
     "slide_type": "slide"
    }
   },
   "source": [
    "# Bonus: k-induction\n",
    "- we can prove the example `Counter` correct by induction\n",
    "- [original example on slide 99](https://zipcpu.com/tutorial/class-verilog.pdf )\n",
    "- base case: $I(s_0) \\land P(s_0)$: `counter === 0 && !(counter =/= 500)`\n",
    "- induction: $P(s_0) \\land T(s_0, s_1) \\land \\neg P(s_1)$\n",
    "\n",
    "<img src=\"ind2.png\" alt=\"inductive\" style=\"width:55%;\" align=\"center\"/>\n"
   ]
  },
  {
   "cell_type": "markdown",
   "id": "b17c9efb",
   "metadata": {
    "slideshow": {
     "slide_type": "slide"
    }
   },
   "source": [
    "# Bonus: k-induction\n",
    "- we can prove the example `Counter` correct by induction\n",
    "- [original example on slide 99](https://zipcpu.com/tutorial/class-verilog.pdf )\n",
    "- base case: $I(s_0) \\land P(s_0)$: `counter === 0 && !(counter =/= 500)`\n",
    "\n",
    "- induction: $P(s_0) \\land T(s_0, s_1) \\land \\neg P(s_1)$"
   ]
  },
  {
   "cell_type": "code",
   "execution_count": null,
   "id": "c8e851ce",
   "metadata": {},
   "outputs": [],
   "source": [
    "// induction step w/o strengthening\n",
    "val ind0 = solve(Seq(P(s0), T(s0, s1), not(P(s1))))\n",
    "println(ind0)"
   ]
  },
  {
   "cell_type": "markdown",
   "id": "10adeff9",
   "metadata": {
    "slideshow": {
     "slide_type": "slide"
    }
   },
   "source": [
    "# Bonus: k-induction\n",
    "- just need a strengthening assertion that states that `count <= 22`\n",
    "- induction: $P(s_0) \\land T(s_0, s_1) \\land \\neg P(s_1)$\n",
    "- we can use a strengething invariant (`inv`) to constrain the starting space"
   ]
  },
  {
   "cell_type": "code",
   "execution_count": null,
   "id": "aa44e746",
   "metadata": {},
   "outputs": [],
   "source": [
    "// induction step w/ strengthening\n",
    "def inv(s: State) = gte(lit(22), s.counter)\n",
    "// combine original property with strengthening invariant\n",
    "def P2(s: State) = and(inv(s), P(s))\n",
    "\n",
    "solve(Seq(P2(s0), T(s0, s1), not(P2(s1))))\n"
   ]
  },
  {
   "cell_type": "code",
   "execution_count": null,
   "id": "54bfe3e7",
   "metadata": {},
   "outputs": [],
   "source": []
  }
 ],
 "metadata": {
  "celltoolbar": "Slideshow",
  "kernelspec": {
   "display_name": "Scala",
   "language": "scala",
   "name": "scala"
  },
  "language_info": {
   "codemirror_mode": "text/x-scala",
   "file_extension": ".sc",
   "mimetype": "text/x-scala",
   "name": "scala",
   "nbconvert_exporter": "script",
   "version": "2.13.4"
  }
 },
 "nbformat": 4,
 "nbformat_minor": 5
}
