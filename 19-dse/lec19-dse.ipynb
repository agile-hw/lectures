{
 "cells": [
  {
   "cell_type": "markdown",
   "id": "external-thermal",
   "metadata": {
    "slideshow": {
     "slide_type": "slide"
    }
   },
   "source": [
    "## Agile Hardware Design\n",
    "***\n",
    "# Power + Design Space Exploration\n",
    "\n",
    "<img src=\"../resource/logo.svg\" alt=\"agile hardware design logo\" style=\"float:right\"/>\n",
    "\n",
    "## Prof. Scott Beamer\n",
    "### sbeamer@ucsc.edu\n",
    "\n",
    "## [CSE 228A](https://classes.soe.ucsc.edu/cse228a/Spring25/)"
   ]
  },
  {
   "cell_type": "markdown",
   "id": "nominated-consistency",
   "metadata": {
    "slideshow": {
     "slide_type": "slide"
    }
   },
   "source": [
    "## Plan for Today\n",
    "\n",
    "* Power & DVFS\n",
    "* Design Space Exploration"
   ]
  },
  {
   "cell_type": "markdown",
   "id": "undefined-raising",
   "metadata": {
    "slideshow": {
     "slide_type": "slide"
    }
   },
   "source": [
    "## Why Power Matters for Chip Design\n",
    "\n",
    "* Is often the _biggest_ constraint for many applications\n",
    "* _Power_ over time requires _energy_\n",
    "  * Energy consumption affects battery life or device size for mobile\n",
    "  * Energy also costs money\n",
    "* Power consumed produces _heat_ which must be cooled\n",
    "  * Needs enough thermal capacity to handle peak\n",
    "  * Might need to _throttle_ device is peak is too long\n",
    "* Peak power draw determines power supply capacity needed (cost & size)\n",
    "* Average power draw sets energy consumption\n"
   ]
  },
  {
   "cell_type": "markdown",
   "id": "solar-capitol",
   "metadata": {
    "slideshow": {
     "slide_type": "slide"
    }
   },
   "source": [
    "## Designers' Ability to Impact Power\n",
    "\n",
    "### Dynamic Power $P \\approx \\alpha C V^2 f$\n",
    "* $\\alpha$ = _activity factor_\n",
    "* $C$ = capacitance\n",
    "* $V$ = voltage (note squared above)\n",
    "* $f$ = frequency\n",
    "\n",
    "### Ways designers can reduce power contributors from above\n",
    "* _activity_ - put idle things to sleep to reduce activity factor $\\alpha$\n",
    "* _area_ - smaller design will have less capacitance $C$ to charge/discharge\n",
    "* _frequency (& voltage)_ - reduce critical path and run _slower_"
   ]
  },
  {
   "cell_type": "markdown",
   "id": "least-condition",
   "metadata": {
    "slideshow": {
     "slide_type": "slide"
    }
   },
   "source": [
    "## Turning Things Off To Save Power\n",
    "\n",
    "### Power Gating\n",
    "  * Power off entire portions of the design until they are needed again\n",
    "  * Can incur latency penalty to turn back on, but saves most power\n",
    "\n",
    "### Clock Gating\n",
    "  * Turn off clock to registers when their contents don't matter\n",
    "  * Clock toggles continuously otherwise, so can yield significant power saving\n",
    "  * CAD tools can often do this automatically _if_ register uses a _write enable_\n",
    "    * Add write enable to registers for when their value is a \"Don't Care\"\n",
    "      * e.g. use `RegEnable` in Chisel\n",
    "    * Most beneficial when register is bigger (more bits) to amortize overhead"
   ]
  },
  {
   "cell_type": "markdown",
   "id": "ff0cbeb9",
   "metadata": {
    "slideshow": {
     "slide_type": "slide"
    }
   },
   "source": [
    "## Power - Time Tradeoffs\n",
    "\n",
    "<img src=\"images/power-tradeoffs.svg\" alt=\"power tradeoffs\" style=\"width:80%;margin-left:auto;margin-right:auto\"/>"
   ]
  },
  {
   "cell_type": "markdown",
   "id": "renewable-scotland",
   "metadata": {
    "slideshow": {
     "slide_type": "slide"
    }
   },
   "source": [
    "## Going Slow to Save Energy\n",
    "\n",
    "* Start with a correct circuit and a performance goal\n",
    "  * Set voltage & frequency to most efficiently meet target\n",
    "  * Sometimes called \"Crawl to deadline\"\n",
    "\n",
    "* Reducing voltage slows a circuit, but also saves power\n",
    "  * Energy savings can outweigh performance loss (remember $V^2$)\n",
    "\n",
    "* _**Dynamic Voltage & Frequency Scaling**_ (DVFS) - change frequency & voltage at runtime to meet changing performance needs"
   ]
  },
  {
   "cell_type": "markdown",
   "id": "sixth-auction",
   "metadata": {
    "slideshow": {
     "slide_type": "slide"
    }
   },
   "source": [
    "## Going Fast to Save Energy\n",
    "\n",
    "* Reducing execution time (without increasing power too much) will save energy\n",
    "\n",
    "* Complete task as fast as possible, and then go to sleep\n",
    "  * Often called \"Race to halt\"\n",
    "\n",
    "* In practice, designs often do both \"Race to halt\" and \"Crawl to deadline\""
   ]
  },
  {
   "cell_type": "markdown",
   "id": "portuguese-patio",
   "metadata": {
    "slideshow": {
     "slide_type": "slide"
    }
   },
   "source": [
    "## Design Space Exploration Motivation\n",
    "\n",
    "### How do you pick the right design?\n",
    "\n",
    "### What metrics should you consider?\n",
    "\n",
    "### How do you optimize for multiple metrics?"
   ]
  },
  {
   "cell_type": "markdown",
   "id": "auburn-quarterly",
   "metadata": {
    "slideshow": {
     "slide_type": "slide"
    }
   },
   "source": [
    "## Common Design Space Metrics\n",
    "\n",
    "* Power - average (energy efficiency) & peak (thermals & delivery)\n",
    "* Performance - latency vs throughput\n",
    "* Area - die area, IO pins, other components (cost)\n",
    "* Usability\n",
    "* Security\n",
    "* Manufacturability\n",
    "* Testability\n",
    "* Fault tolerance\n",
    "* Reusability\n",
    "* Sustainability"
   ]
  },
  {
   "cell_type": "markdown",
   "id": "harmful-visit",
   "metadata": {
    "slideshow": {
     "slide_type": "slide"
    }
   },
   "source": [
    "## Design Space Parameters\n",
    "\n",
    "* Generators make it easy to consider even more\n",
    "\n",
    "* External parameters (how component behaves & what it does)\n",
    "\n",
    "* Internal parameters (generator microarchitectures)\n",
    "  * Parallelism\n",
    "  * Buffer/queue/field sizes\n",
    "  * Approach (different algorithms)\n",
    "  * Topologies"
   ]
  },
  {
   "cell_type": "markdown",
   "id": "documented-steam",
   "metadata": {
    "slideshow": {
     "slide_type": "slide"
    }
   },
   "source": [
    "## Taming a Design Space\n",
    "\n",
    "#### Evaluate Metrics\n",
    "* Is a metric necessary to this application, or can it be removed?\n",
    "* Even if necessary, can it be turned into a constraint (e.g. power < 1W)?\n",
    "* Of remaining metrics, clear precedence order or need _tradeoffs_?\n",
    "\n",
    "#### Identify parameters and prune early\n",
    "* Is every parameter and all of its settings independent?\n",
    "* Are there some that should be matched?\n",
    "  * e.g. producer throughput = consumer throughput?\n",
    "* Are some parameters more impactful than others?"
   ]
  },
  {
   "cell_type": "markdown",
   "id": "crucial-afternoon",
   "metadata": {
    "slideshow": {
     "slide_type": "slide"
    }
   },
   "source": [
    "## Exploring a Design Space\n",
    "\n",
    "* Solution & approach are very application depedent\n",
    "* Can be formalized as a non-convex optimization problem\n",
    "* Exhuastive search (brute force) is typically intractable, at least for full design space\n",
    "\n",
    "#### Typical methods\n",
    "* Often involve some amount of human guidance\n",
    "* Classic algorithms - branch and bound, dynamic programming, randomized search\n",
    "* More sophisticated algorithms - genetic evolution, machine learning, ...\n",
    "\n",
    "#### What about using models to more quickly evaluate points (and design space)?\n",
    "* Can be helpful, but also at the mercy of model accuracy\n",
    "* Generators make trying out options cheaper so model not as necessary\n",
    "* Hard to perfectly model/predict/forecast exact right sizing/design in advance, so _agile approach_ of trying out options will give better result"
   ]
  },
  {
   "cell_type": "markdown",
   "id": "ae033464",
   "metadata": {
    "slideshow": {
     "slide_type": "slide"
    }
   },
   "source": [
    "## Example - Matrix Multiplication Design Space Exploration (1/2)\n",
    "\n",
    "#### External Parameters\n",
    "* Problem size (i.e. matrix dimensions, size flexibility)\n",
    "* Performance knobs\n",
    "* Interface details - pipelined?\n",
    "\n",
    "#### Internal Parameters\n",
    "* Architecture - 1D, 2D, systolic, other?\n",
    "* Buffers/scratchpads/caches/off-chip memory sizes & organizations\n",
    "* Parallelism - number of ALUs\n",
    "\n",
    "#### Metrics\n",
    "* Power & Area\n",
    "* Performance - throughput or latency"
   ]
  },
  {
   "cell_type": "markdown",
   "id": "e23987b1",
   "metadata": {
    "slideshow": {
     "slide_type": "slide"
    }
   },
   "source": [
    "## Example - Matrix Multiplication Design Space Exploration (2/2)\n",
    "\n",
    "#### Hypothetical Process\n",
    "1. Specify problem details (external parameters).\n",
    "2. Identify resources available (ASIC/FPGA, off-chip memory, etc.)\n",
    "3. Use analytic models to define architectural space at a course granularity. For example, can everything fit on chip, or is off-chip memory needed?\n",
    "4. Implement most promising architecture. Get it working. Set up evaluation setup.\n",
    "5. Sweep parameters to see tradeoffs for that architecture.\n",
    "6. With insights learned, consider minor changes to that architecture or even new architectures.\n",
    "7. Repeat #4-7 until done."
   ]
  },
  {
   "cell_type": "markdown",
   "id": "tamil-highland",
   "metadata": {
    "slideshow": {
     "slide_type": "slide"
    }
   },
   "source": [
    "## Exploring a Tradeoff with a Pareto Frontier\n",
    "\n",
    "* _**Pareto Optimal**_ - can't improve a metric without worsening another metric\n",
    "* _**Pareto Frontier**_ - set points that are pareto optimal\n",
    "\n",
    "<img src=\"images/pareto.svg\" alt=\"pareto tradeoffs\" style=\"width:55%;margin-left:auto;margin-right:auto\"/>"
   ]
  },
  {
   "cell_type": "markdown",
   "id": "adjustable-fever",
   "metadata": {
    "slideshow": {
     "slide_type": "slide"
    }
   },
   "source": [
    "## Example Pareto Tradeoffs for Matrix Multiply\n",
    "\n",
    "<img src=\"images/aladdin.pdf\" alt=\"GEMM DSE\" style=\"width:70%;margin-left:auto;margin-right:auto\"/>\n",
    "\n",
    "[\"Aladdin: A pre-RTL, power-performance accelerator simulator enabling large design space exploration of customized architectures,\" Sophia Shao et al., ISCA 2014](https://ieeexplore.ieee.org/abstract/document/6853196)"
   ]
  },
  {
   "cell_type": "markdown",
   "id": "conditional-archives",
   "metadata": {
    "slideshow": {
     "slide_type": "slide"
    }
   },
   "source": [
    "## Example Pareto Tradeoffs for Core Design (w/ DVFS)\n",
    "\n",
    "<img src=\"images/core-tradeoffs.pdf\" alt=\"core tradeoffs\" style=\"width:65%;margin-left:auto;margin-right:auto\"/>\n",
    "\n",
    "[\"Energy-performance tradeoffs in processor architecture and circuit design: a marginal cost analysis,\" Omid Azizi et al., ISCA 2010](https://dl.acm.org/doi/abs/10.1145/1816038.1815967)"
   ]
  }
 ],
 "metadata": {
  "celltoolbar": "Slideshow",
  "kernelspec": {
   "display_name": "Scala",
   "language": "scala",
   "name": "scala"
  },
  "language_info": {
   "codemirror_mode": "text/x-scala",
   "file_extension": ".sc",
   "mimetype": "text/x-scala",
   "name": "scala",
   "nbconvert_exporter": "script",
   "version": "2.13.14"
  }
 },
 "nbformat": 4,
 "nbformat_minor": 5
}
