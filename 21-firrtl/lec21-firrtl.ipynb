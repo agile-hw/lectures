{
 "cells": [
  {
   "cell_type": "markdown",
   "id": "external-thermal",
   "metadata": {
    "slideshow": {
     "slide_type": "slide"
    }
   },
   "source": [
    "## Agile Hardware Design\n",
    "***\n",
    "# Hardware Intermediate Representations (IR)\n",
    "\n",
    "<img src=\"../resource/logo.svg\" alt=\"agile hardware design logo\" style=\"float:right\"/>\n",
    "\n",
    "## Prof. Scott Beamer\n",
    "### sbeamer@ucsc.edu\n",
    "\n",
    "## [CSE 228A](https://classes.soe.ucsc.edu/cse228a/Spring25/)"
   ]
  },
  {
   "cell_type": "markdown",
   "id": "nominated-consistency",
   "metadata": {
    "slideshow": {
     "slide_type": "slide"
    }
   },
   "source": [
    "## Plan for Today\n",
    "\n",
    "* Motivation\n",
    "* FIRRTL Overview\n",
    "* Example Design in FIRRTL\n",
    "* Example Optimizations / Transforms\n",
    "* Future of Exposed IRs in Hardware Design"
   ]
  },
  {
   "cell_type": "markdown",
   "id": "regular-reducing",
   "metadata": {
    "slideshow": {
     "slide_type": "slide"
    }
   },
   "source": [
    "## Loading The Chisel Library Into a Notebook"
   ]
  },
  {
   "cell_type": "code",
   "execution_count": null,
   "id": "robust-immigration",
   "metadata": {},
   "outputs": [],
   "source": [
    "interp.configureCompiler(_.settings.processArguments(List(\"-Wconf:cat=deprecation:s\"), true))\n",
    "interp.load.module(os.Path(s\"${System.getProperty(\"user.dir\")}/../resource/chisel_deps.sc\"))"
   ]
  },
  {
   "cell_type": "code",
   "execution_count": null,
   "id": "extended-burning",
   "metadata": {
    "slideshow": {
     "slide_type": "-"
    }
   },
   "outputs": [],
   "source": [
    "import chisel3._\n",
    "import chisel3.util._\n",
    "import chiseltest._\n",
    "import chiseltest.RawTester.test"
   ]
  },
  {
   "cell_type": "markdown",
   "id": "auburn-characterization",
   "metadata": {
    "slideshow": {
     "slide_type": "slide"
    }
   },
   "source": [
    "## What Have We Been Doing with Hardware Generators?\n",
    "\n",
    "* Concretely: use _programming_ (in Scala) to orchestrate _hardware instantiation_ (in Chisel)\n",
    "  * Can think of all of the Chisel commands we have learned as instantiating hardware (including connections)\n",
    "* Hardware generators allow us to _automate_ construction of hardware\n",
    "  * Part of the design is generated when needed rather than when written\n",
    "* Developers need to imagine possible situations and provide parameters (with generator support) to implement them\n",
    "  * Generation capabilities and implementation is specific to that generator"
   ]
  },
  {
   "cell_type": "markdown",
   "id": "imported-welsh",
   "metadata": {
    "slideshow": {
     "slide_type": "slide"
    }
   },
   "source": [
    "## What About Reusing an Optimization?\n",
    "\n",
    "* Imagine for your generator, you make an optimization, and want to generalize it to use in other generators\n",
    "* You could to encapsulate the optimization in clever Scala\n",
    "  * Could use spiffy features like generic types and/or inheritance\n",
    "  * Everyone that uses the optimization needs to modify code significantly to instantiate that optimization\n",
    "  * As the optimization implementor, will need to figure out a sufficiently flexible pattern to support everyone\n",
    "  * Compatability/composability with similar optimizations will be a challenge\n",
    "* **Q:** _Why is this hard?_\n",
    "  * **A:** input/interface to optimization is too broad and undefined (arbitrary Scala)"
   ]
  },
  {
   "cell_type": "markdown",
   "id": "genetic-procedure",
   "metadata": {
    "slideshow": {
     "slide_type": "slide"
    }
   },
   "source": [
    "## Is There An Alternate Way to Package an Optimization?\n",
    "\n",
    "* Prior approach (templated Scala) applies optimization while constructing the design\n",
    "* _Alternative:_ construct design first, then optimize existing design\n",
    "  * Greatly simplifies input/interface - now a HW design instead of arbitrary Scala\n",
    "  * Compatability/composability with similar optimizations easier because their input & output formats are now the same\n",
    "* _Summary:_ some optimizations/transformations are best implemented in tools rather than manually in design or generator\n",
    "  * More reusable, and may be able to act on more information\n",
    "  * Blurs line between putting automation/smarts in generator or tools"
   ]
  },
  {
   "cell_type": "markdown",
   "id": "parental-blast",
   "metadata": {
    "slideshow": {
     "slide_type": "slide"
    }
   },
   "source": [
    "## Custom Transformations Ease Complexity-Difficulty Tradeoff\n",
    "\n",
    "* Static design - is easy to get started, but complexity rapidly increases\n",
    "* Generator design increases scope of practical transformations\n",
    "* Generator + custom transformations reduces challenge at top end\n",
    "\n",
    "<img src=\"images/comp-diff.svg\" alt=\"complexity difficulty tradeoffs\" style=\"width:50%;margin-left:auto;margin-right:auto\"/>"
   ]
  },
  {
   "cell_type": "markdown",
   "id": "nutritional-infection",
   "metadata": {
    "slideshow": {
     "slide_type": "slide"
    }
   },
   "source": [
    "## Introducing Hardware Intermediate Representations\n",
    "\n",
    "* _Intermediate representation (IR)_ expresses a design in a well-defined syntax\n",
    "  * Typically think of it as a graph with varying node types\n",
    "  * Using IRs is an established best practice from compliers/PL\n",
    "* IRs make it easy for others to make/modify/reuse tools\n",
    "  * _Want an optimization?_ -> add a new _pass_ to the middle of the tool flow\n",
    "  * _Want a new language?_ -> make a new _frontend_ and reuse the rest\n",
    "  * _Want a new target?_ -> make a new _backend_ and reuse the rest\n",
    "* Historically, hardware tools kept IRs internal, and did not even formalize/specify them\n",
    "  * Specifying and externalizing IR is a key enabler"
   ]
  },
  {
   "cell_type": "markdown",
   "id": "actual-disorder",
   "metadata": {
    "slideshow": {
     "slide_type": "slide"
    }
   },
   "source": [
    "## Hypothetical Hardware Tool Software Architecture\n",
    "\n",
    "<img src=\"images/compiler-ends.svg\" alt=\"compiler front end, middle end, back end\" style=\"width:75%;margin-left:auto;margin-right:auto\"/>"
   ]
  },
  {
   "cell_type": "markdown",
   "id": "conceptual-creature",
   "metadata": {
    "slideshow": {
     "slide_type": "slide"
    }
   },
   "source": [
    "## Introducing Flexible Intermediate Representation for RTL (FIRRTL)\n",
    "\n",
    "* IR for Chisel, but used by other projects too\n",
    "* FIRRTL greatly improved development/reliability of Chisel\n",
    "  * chisel2 (prior version) was monolithic and complex\n",
    "    * complexity introduced bugs and discouraged contributions\n",
    "  * Rewrite with FIRRTL (and IR using passes) much easier to work with\n",
    "* \"FIRRTL\" can be ambiguous, because refers to\n",
    "  * FIRRTL specification/format\n",
    "  * a design in FIRRTL (.fir as a file)\n",
    "  * `firrtl` library (which processes FIRRTL)\n",
    "\n",
    "<img src=\"https://raw.githubusercontent.com/chipsalliance/firrtl/master/doc/images/firrtl_logo.svg\" alt=\"firrtl logo\" style=\"width:40%;margin-left:auto;margin-right:auto\"/>"
   ]
  },
  {
   "cell_type": "markdown",
   "id": "74f53b73",
   "metadata": {
    "slideshow": {
     "slide_type": "slide"
    }
   },
   "source": [
    "## Chisel Tool Flow\n",
    "\n",
    "#### Chisel 3.6 and earlier\n",
    "<img src=\"images/flow.svg\" alt=\"original chisel flow\" style=\"width:95%;margin-left:auto;margin-right:auto\"/>\n",
    "\n",
    "#### Chisel 3.6 and later\n",
    "<img src=\"images/flow-new.svg\" alt=\"revised chisel flow\" style=\"width:95%;margin-left:auto;margin-right:auto\"/>"
   ]
  },
  {
   "cell_type": "markdown",
   "id": "gorgeous-hepatitis",
   "metadata": {
    "slideshow": {
     "slide_type": "slide"
    }
   },
   "source": [
    "## The IR Within FIRRTL\n",
    "\n",
    "* Composition of FIRRTL components:\n",
    "  * A hardware design is a _circuit_ composed of _modules_\n",
    "  * A _module_ contains _ports_ and _statements_\n",
    "  * A _statement_ can contain _expressions_ or other _statements_\n",
    "  * An _expression_ can contain _expressions_\n",
    "\n",
    "<img src=\"images/types.svg\" alt=\"FIRRTL node types\" style=\"width:40%;margin-left:auto;margin-right:auto\"/>"
   ]
  },
  {
   "cell_type": "markdown",
   "id": "curious-result",
   "metadata": {
    "slideshow": {
     "slide_type": "slide"
    }
   },
   "source": [
    "## IR Node Types in FIRRTL\n",
    "\n",
    "\n",
    "* IR nodes extend abstract classes in FIRRTL\n",
    "  * _Circuit_ - top level of design\n",
    "  * _Module_ - a component\n",
    "  * _Port_ - an input or output for a module\n",
    "  * _Type_ - e.g. `UInt`, `SInt`, `Clock`\n",
    "  * _Statement_ - connection, declaration, or instantiation (e.g. DefWire, Connect...)\n",
    "  * _Expression_ - reference, literal, or operation (e.g. Ref, Mux, DoPrim...)"
   ]
  },
  {
   "cell_type": "markdown",
   "id": "stainless-century",
   "metadata": {
    "slideshow": {
     "slide_type": "slide"
    }
   },
   "source": [
    "## FIRRTL Example - Simple Delay Module (1/3)"
   ]
  },
  {
   "cell_type": "code",
   "execution_count": null,
   "id": "hispanic-combat",
   "metadata": {},
   "outputs": [],
   "source": [
    "class Delay extends Module {\n",
    "    val io = IO(new Bundle {\n",
    "        val in = Input(UInt(4.W))\n",
    "        val out = Output(UInt(4.W))\n",
    "    })\n",
    "    io.out := RegNext(io.in)\n",
    "}\n",
    "\n",
    "// printVerilog(new Delay)\n",
    "println(getFirrtl(new Delay))"
   ]
  },
  {
   "cell_type": "markdown",
   "id": "above-grammar",
   "metadata": {
    "slideshow": {
     "slide_type": "slide"
    }
   },
   "source": [
    "## FIRRTL Example - Simple Delay Module (2/3)"
   ]
  },
  {
   "cell_type": "code",
   "execution_count": null,
   "id": "outdoor-algeria",
   "metadata": {},
   "outputs": [],
   "source": [
    "import firrtl.Parser\n",
    "val firrtlSerialization = getFirrtl(new Delay)\n",
    "val firrtlAST = firrtl.Parser.parse(firrtlSerialization.split(\"\\n\").toIterator, Parser.GenInfo(\"file.fir\"))\n",
    "\n",
    "println(firrtlAST)\n",
    "// println(stringifyAST(firrtlAST))"
   ]
  },
  {
   "cell_type": "markdown",
   "id": "trying-fossil",
   "metadata": {
    "slideshow": {
     "slide_type": "slide"
    }
   },
   "source": [
    "## FIRRTL Example - Simple Delay Module (3/3)\n",
    "\n",
    "<img src=\"images/delay.svg\" alt=\"Delay FIRRTL example\" style=\"width:90%;margin-left:auto;margin-right:auto\"/>\n",
    "\n",
    "[\"Reusability is FIRRTL ground: Hardware construction languages, compiler frameworks, and transformations,\" Adam Izraelevitz et al., ICCAD 2017](https://ieeexplore.ieee.org/abstract/document/8203780)"
   ]
  },
  {
   "cell_type": "markdown",
   "id": "disturbed-cleaner",
   "metadata": {
    "slideshow": {
     "slide_type": "slide"
    }
   },
   "source": [
    "## FIRRTL \"Lowers\" Abstractions Gradually\n",
    "\n",
    "* FIRRTL library uses _passes_ to slowly change IR to desired result\n",
    "  * Breaks challenging problem of making a compiler into making many manageable passes or transformations\n",
    "    * With single purpose, each pass is easier to develop & test\n",
    "  * Another best practice from compiler community\n",
    "* FIRRTL formalizes abstraction complexity with multiple _levels_\n",
    "  * Lower levels are a subset of nodes and values of higher levels\n",
    "  * _Lowering_ - _High-level_ abstractions (e.g. Chisel) -> _Low-level_ concrete things (e.g. Verilog)\n",
    "* _High FIRRTL_ - all node types available & many bitwidths are unspecified\n",
    "  * Like what is emitted by Chisel frontend\n",
    "* _Low FIRRTL_ - like Verilog - subset of node types available & all bitwidths are specified\n",
    "  * Easy for Verilog Backend to emit as Verilog\n",
    "* In addition to lowering, transformations can: analyze, optimize, instrument, specialize"
   ]
  },
  {
   "cell_type": "markdown",
   "id": "asian-madonna",
   "metadata": {
    "slideshow": {
     "slide_type": "slide"
    }
   },
   "source": [
    "## Example FIRRTL Operations\n",
    "\n",
    "#### Lowering Passes\n",
    "* _Infer Widths_ - iteratively determines what final widths of signals should be\n",
    "* _Pad widths_ - ensure all operators are given operands of the same width\n",
    "* _Expand Whens_ - replaces when statements with appropriate connections and muxes\n",
    "* Many safety checks are performed by FIRRTL library instead of Chisel frontend\n",
    "\n",
    "#### Optimization Transformations\n",
    "* _Constant propagation_ - replace references to literals with literals and simplify logic\n",
    "* _Dead code elimination (DCE)_ - remove disconnected statements and modules\n",
    "* _Common subexpression elimination (CSE)_ - deduplicate repeated expressions"
   ]
  },
  {
   "cell_type": "markdown",
   "id": "australian-bridal",
   "metadata": {
    "slideshow": {
     "slide_type": "slide"
    }
   },
   "source": [
    "## FireSim & Golden Gate - Large Example of Custom Tools\n",
    "\n",
    "* [FireSim](https://fires.im) - automates process of simulating Chisel designs on cloud FPGAs\n",
    "  * Virtualizes simulation time relative to the passage of time on the physical FPGA\n",
    "  * Under-the-hood, instruments/modifies design for simulation and even tracking\n",
    "* [Golden Gate](https://people.eecs.berkeley.edu/~biancolin/papers/goldengate-iccad19.pdf)  improves simulation resource efficiency by sharing/multiplexing\n",
    "* Both tool flows leverage FIRRTL library and development focuses on unique optimizations/transformations and were able to reuse much of the rest"
   ]
  },
  {
   "cell_type": "markdown",
   "id": "elementary-canadian",
   "metadata": {
    "slideshow": {
     "slide_type": "slide"
    }
   },
   "source": [
    "## ESSENT - Another FIRRTL User\n",
    "\n",
    "* [ESSENT](https://github.com/ucsc-vama/essent) is a FIRRTL simulator, that is the fastest cycle-accurate software RTL simulator\n",
    "  * Is also one of main research thrusts of the course instructor's group :)\n",
    "* By leveraging `firrtl` library, we are able to focus on the novel innovations for our simulation approach\n",
    "  * ESSENT code is only around ~5K lines of Scala (not counting firrtl)\n",
    "  * Current leading open-source Verilog simulator (Verilator is >100K lines of C++)\n",
    "    * ESSENT outperforms it by 2x by using more sophisticated optimizations\n",
    "    * Verilator does support some Verilog constructs not expressable in FIRRTL"
   ]
  },
  {
   "cell_type": "markdown",
   "id": "f63dc4bc",
   "metadata": {},
   "source": [
    "## CIRCT (Circuit IR Compilers and Tools) - The Next Frontier\n",
    "\n",
    "* Hardware IR leveraging LLVM (codebase and organization)\n",
    "* Supports incomming dialects beyond FIRRTL\n",
    "* Compared to prior Scala-based firrtl library, is much faster and uses less memory to lower (generate Verilog)\n",
    "    * Going forward, FIRRTL (the spec) may change and CIRCT will track it, but the Scala-based firrtl library (SFC) may not\n",
    "* Great for building a custom stand-alone tool\n",
    "    * For doing a custom transformation on a single design, has a higher barrier to entry the prior Scala-based firrtl library\n",
    "\n",
    "<p>\n",
    "<img src=\"https://circt.llvm.org/includes/img/circt-logo.svg\" alt=\"circt logo\" style=\"width:20%;margin-left:auto;margin-right:auto\"/>"
   ]
  },
  {
   "cell_type": "markdown",
   "id": "compressed-poetry",
   "metadata": {
    "slideshow": {
     "slide_type": "slide"
    }
   },
   "source": [
    "## Summary\n",
    "\n",
    "### Hardware IRs enable designers to make tool-like transformations\n",
    "\n",
    "### There is a growing landscape of hardware IRs\n",
    "  * [FIRRTL](https://github.com/chipsalliance/firrtl) - today's lecture, supports Chisel\n",
    "  * [RTLIL](https://yosyshq.readthedocs.io/projects/yosys/en/stable/yosys_internals/formats/rtlil_rep.html) - from Yosys\n",
    "  * [CIRCT](https://github.com/llvm/circt) - from LLVM\n",
    "  * [CoreIR](https://github.com/rdaly525/coreir) - from Stanford\n",
    "  * ~~[LLHD](https://dl.acm.org/doi/10.1145/3385412.3386024) - from ETH~~\n"
   ]
  }
 ],
 "metadata": {
  "celltoolbar": "Slideshow",
  "kernelspec": {
   "display_name": "Scala",
   "language": "scala",
   "name": "scala"
  },
  "language_info": {
   "codemirror_mode": "text/x-scala",
   "file_extension": ".sc",
   "mimetype": "text/x-scala",
   "name": "scala",
   "nbconvert_exporter": "script",
   "version": "2.13.14"
  }
 },
 "nbformat": 4,
 "nbformat_minor": 5
}
